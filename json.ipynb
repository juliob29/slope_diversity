{
 "cells": [
  {
   "cell_type": "code",
   "execution_count": 11,
   "metadata": {},
   "outputs": [],
   "source": [
    "import json\n",
    "from enum import Enum\n",
    "json_string = \"\"\n",
    "with open(\"table.txt\") as f:\n",
    "    for line in f:\n",
    "        json_string += line\n",
    "table = json.loads(json_string)"
   ]
  },
  {
   "cell_type": "code",
   "execution_count": 12,
   "metadata": {},
   "outputs": [],
   "source": [
    "class Group(Enum):\n",
    "    LOW = 0,\n",
    "    MED = 1,\n",
    "    HIGH = 2"
   ]
  },
  {
   "cell_type": "code",
   "execution_count": 13,
   "metadata": {},
   "outputs": [],
   "source": [
    "def divider(table):\n",
    "    low_table = {}\n",
    "    med_table = {}\n",
    "    high_table = {}\n",
    "    \n",
    "    for key in table:\n",
    "        if \"LOW\" in key:\n",
    "            low_table[key] = table[key]\n",
    "        elif \"MED\" in key:\n",
    "            med_table[key] = table[key]\n",
    "        elif \"HIGH\" in key:\n",
    "            high_table[key] = table[key]\n",
    "        else:\n",
    "            print(\"This should never happen...\")\n",
    "    return low_table, med_table, high_table"
   ]
  },
  {
   "cell_type": "code",
   "execution_count": 14,
   "metadata": {},
   "outputs": [],
   "source": [
    "low_table, med_table, high_table = divider(table)"
   ]
  },
  {
   "cell_type": "code",
   "execution_count": 15,
   "metadata": {},
   "outputs": [],
   "source": [
    "from matplotlib import pyplot as plt"
   ]
  },
  {
   "cell_type": "code",
   "execution_count": 16,
   "metadata": {},
   "outputs": [],
   "source": [
    "from matplotlib import pyplot as plt\n",
    "from random import randint\n",
    "\n",
    "def graph_3(low, med, high):\n",
    "    low_x = [num for num in range(len(low))]\n",
    "    med_x = [num for num in range(len(med))]\n",
    "    high_x = [num for num in range(len(high))]\n",
    "\n",
    "    fig, ax = plt.subplots()\n",
    "    ax.plot(low_x, low, label='Low', color='blue')\n",
    "    ax.plot(med_x, med, label='Med', color = 'red')\n",
    "    ax.plot(high_x, high, label='High', color = 'yellow')\n",
    "    legend = ax.legend(loc='center right', fontsize='x-large')\n",
    "\n",
    "    plt.xlabel('Study')\n",
    "    plt.ylabel('CS Pts')\n",
    "    plt.title('Comparison of 3 groups')\n",
    "    plt.show()"
   ]
  },
  {
   "cell_type": "code",
   "execution_count": 17,
   "metadata": {},
   "outputs": [
    {
     "data": {
      "image/png": "[encoded data removed]",
      "text/plain": [
       "<Figure size 432x288 with 1 Axes>"
      ]
     },
     "metadata": {
      "needs_background": "light"
     },
     "output_type": "display_data"
    }
   ],
   "source": [
    "# This will select 3 of them randomly and graph it \n",
    "low = low_table[\"LOW_GROUP_\" + str(randint(0,49))]\n",
    "med = med_table[\"MED_GROUP_\" + str(randint(0,49))]\n",
    "high = high_table[\"HIGH_GROUP_\" + str(randint(0,49))]\n",
    "\n",
    "graph_3(low, med, high)"
   ]
  },
  {
   "cell_type": "code",
   "execution_count": 18,
   "metadata": {},
   "outputs": [
    {
     "data": {
      "image/png": "[encoded data removed]",
      "text/plain": [
       "<Figure size 432x288 with 1 Axes>"
      ]
     },
     "metadata": {
      "needs_background": "light"
     },
     "output_type": "display_data"
    }
   ],
   "source": [
    "# This will select 3 of the best and graph them \n",
    "low_max = max(low_table, key=lambda x: low_table[x][-1])\n",
    "med_max = max(low_table, key=lambda x: low_table[x][-1])\n",
    "high_max = max(low_table, key=lambda x: low_table[x][-1])\n",
    "\n",
    "graph_3(low, med, high)"
   ]
  },
  {
   "cell_type": "code",
   "execution_count": null,
   "metadata": {},
   "outputs": [],
   "source": []
  },
  {
   "cell_type": "code",
   "execution_count": null,
   "metadata": {},
   "outputs": [],
   "source": []
  },
  {
   "cell_type": "code",
   "execution_count": null,
   "metadata": {},
   "outputs": [],
   "source": []
  },
  {
   "cell_type": "code",
   "execution_count": null,
   "metadata": {},
   "outputs": [],
   "source": []
  }
 ],
 "metadata": {
  "kernelspec": {
   "display_name": "Python 3",
   "language": "python",
   "name": "python3"
  },
  "language_info": {
   "codemirror_mode": {
    "name": "ipython",
    "version": 3
   },
   "file_extension": ".py",
   "mimetype": "text/x-python",
   "name": "python",
   "nbconvert_exporter": "python",
   "pygments_lexer": "ipython3",
   "version": "3.7.4"
  }
 },
 "nbformat": 4,
 "nbformat_minor": 4
}
